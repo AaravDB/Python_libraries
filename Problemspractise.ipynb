{
  "nbformat": 4,
  "nbformat_minor": 0,
  "metadata": {
    "colab": {
      "provenance": [],
      "authorship_tag": "ABX9TyNlp5NPlskLJ0TePel3dCT1",
      "include_colab_link": true
    },
    "kernelspec": {
      "name": "python3",
      "display_name": "Python 3"
    },
    "language_info": {
      "name": "python"
    }
  },
  "cells": [
    {
      "cell_type": "markdown",
      "metadata": {
        "id": "view-in-github",
        "colab_type": "text"
      },
      "source": [
        "<a href=\"https://colab.research.google.com/github/AaravDB/Python_libraries/blob/testing/Problemspractise.ipynb\" target=\"_parent\"><img src=\"https://colab.research.google.com/assets/colab-badge.svg\" alt=\"Open In Colab\"/></a>"
      ]
    },
    {
      "cell_type": "markdown",
      "source": [
        "Lists and Loops: Write a Python function that takes a list of integers as\n",
        "input and returns the sum of all even numbers in the list."
      ],
      "metadata": {
        "id": "TpRrpZVqTF7a"
      }
    },
    {
      "cell_type": "code",
      "execution_count": null,
      "metadata": {
        "colab": {
          "base_uri": "https://localhost:8080/"
        },
        "id": "LNpnYBLwSnMb",
        "outputId": "ee576cdc-7eab-4636-d865-bb760d52652c"
      },
      "outputs": [
        {
          "output_type": "stream",
          "name": "stdout",
          "text": [
            "6\n",
            "[1, 2, 3, 4, 5, 6]\n",
            "12\n"
          ]
        }
      ],
      "source": [
        "def sumofevennumbers(numbers):\n",
        "  sumofeven=0\n",
        "  for number in numbers:\n",
        "    if number%2==0:\n",
        "      sumofeven+=number\n",
        "  return sumofeven\n",
        "a=[1,2,3,4,5]\n",
        "print(sumofevennumbers(a))\n",
        "a.append(6)\n",
        "print(a)\n",
        "print(sumofevennumbers(a))"
      ]
    },
    {
      "cell_type": "markdown",
      "source": [
        "nearest neighbour: Given a 2D-point and an array of 2D-points as input,\n",
        "find out three nearest neighbour."
      ],
      "metadata": {
        "id": "SN5o5vbMUyn9"
      }
    },
    {
      "cell_type": "code",
      "source": [
        "import numpy as np"
      ],
      "metadata": {
        "id": "ucwvyRNCW9M3"
      },
      "execution_count": null,
      "outputs": []
    },
    {
      "cell_type": "code",
      "source": [
        "def distancefinder(x,y,x1,y1):\n",
        "  '''this function gives us the distance between two points\n",
        "    used to find the distance of each point from the target'''\n",
        "  distance=np.sqrt((x-x1)**2+(y-y1)**2)\n",
        "  return distance\n",
        "distancefinder(1.0,1.0,2.0,0.0)"
      ],
      "metadata": {
        "colab": {
          "base_uri": "https://localhost:8080/"
        },
        "id": "WYM4RY6wWXyW",
        "outputId": "da7ec30e-318d-44dc-9d8d-705e4064cb8b"
      },
      "execution_count": null,
      "outputs": [
        {
          "output_type": "execute_result",
          "data": {
            "text/plain": [
              "np.float64(1.4142135623730951)"
            ]
          },
          "metadata": {},
          "execution_count": 3
        }
      ]
    },
    {
      "cell_type": "code",
      "source": [
        "def distancearraygiver(target,points):\n",
        "  '''this function calls the distance function and gives us an\n",
        "   array containing distances of respective points from the target\n",
        "  '''\n",
        "\n",
        "  a,b=points.shape\n",
        "  x,y=target[0],target[1]\n",
        "  distancearray=np.zeros((a))\n",
        "  for i in range(a):\n",
        "    x1,y1=points[i][0],points[i][1]\n",
        "    distancearray[i]=distancefinder(x,y,x1,y1)\n",
        "  return distancearray\n"
      ],
      "metadata": {
        "id": "kcr3EUk5U9cn"
      },
      "execution_count": null,
      "outputs": []
    },
    {
      "cell_type": "code",
      "source": [
        "def threenearestfinder(distancearray,points):\n",
        "  a,b=points.shape\n",
        "  sorted_indices=distancearray.argsort()\n",
        "  nearest_points=points[sorted_indices[:3]]\n",
        "  return nearest_points\n"
      ],
      "metadata": {
        "id": "YkNJdKOyiRX0"
      },
      "execution_count": null,
      "outputs": []
    },
    {
      "cell_type": "code",
      "source": [
        "a=np.zeros(2,dtype=np.int64)\n",
        "b=np.random.randint(0,10,(5,2))\n",
        "print(a)\n",
        "print(b)\n",
        "c=distancearraygiver(a,b)\n",
        "print(c)\n",
        "d=threenearestfinder(c,b)\n",
        "print(d)"
      ],
      "metadata": {
        "colab": {
          "base_uri": "https://localhost:8080/"
        },
        "id": "eeRoR3Z4ilRp",
        "outputId": "a5df4a9d-0728-43fd-c2bb-a392859a86de"
      },
      "execution_count": null,
      "outputs": [
        {
          "output_type": "stream",
          "name": "stdout",
          "text": [
            "[0 0]\n",
            "[[8 6]\n",
            " [6 2]\n",
            " [3 3]\n",
            " [6 1]\n",
            " [8 2]]\n",
            "[10.          6.32455532  4.24264069  6.08276253  8.24621125]\n",
            "[[3 3]\n",
            " [6 1]\n",
            " [6 2]]\n"
          ]
        }
      ]
    },
    {
      "cell_type": "markdown",
      "source": [
        "List Comprehension: Given a list of words as input, create a new list\n",
        "containing the length of each word using list comprehension."
      ],
      "metadata": {
        "id": "d8Qz1qIwkHxC"
      }
    },
    {
      "cell_type": "code",
      "source": [
        "def lengthlist(wordlist):\n",
        "  lengthlist=[]\n",
        "  for  word in wordlist:\n",
        "    lengthlist.append(len(word))\n",
        "  return lengthlist"
      ],
      "metadata": {
        "id": "cHi5N3aXkHEo"
      },
      "execution_count": null,
      "outputs": []
    },
    {
      "cell_type": "code",
      "source": [
        "Ground_truth=['I','am','amazing']\n",
        "print(lengthlist(Ground_truth))"
      ],
      "metadata": {
        "colab": {
          "base_uri": "https://localhost:8080/"
        },
        "id": "ccjBc0Ygkt_Y",
        "outputId": "148b8185-fc5c-461d-f4a9-45f7d51b5af7"
      },
      "execution_count": null,
      "outputs": [
        {
          "output_type": "stream",
          "name": "stdout",
          "text": [
            "[1, 2, 7]\n"
          ]
        }
      ]
    },
    {
      "cell_type": "markdown",
      "source": [
        "NumPy Array Operations: Given two NumPy arrays as input, perform\n",
        "element-wise multiplication and store the result in a new array.\n"
      ],
      "metadata": {
        "id": "Myl0uXAllBPN"
      }
    },
    {
      "cell_type": "code",
      "source": [
        "def elementwiseoperations(a,b):\n",
        "  return np.add(a,b),np.subtract(a,b),np.multiply(a,b),np.divide(a,b)"
      ],
      "metadata": {
        "id": "FAAo4lTRlE6b"
      },
      "execution_count": null,
      "outputs": []
    },
    {
      "cell_type": "code",
      "source": [
        "a=np.array([1,2])\n",
        "b=np.array([3,4])\n",
        "c,d,e,f=elementwiseoperations(a,b)\n",
        "print(c,d,e,f)"
      ],
      "metadata": {
        "colab": {
          "base_uri": "https://localhost:8080/"
        },
        "id": "zO17wiHylSbN",
        "outputId": "c9b6135e-1f45-433d-e610-a38905d1ae47"
      },
      "execution_count": null,
      "outputs": [
        {
          "output_type": "stream",
          "name": "stdout",
          "text": [
            "[4 6] [-2 -2] [3 8] [0.33333333 0.5       ]\n"
          ]
        }
      ]
    },
    {
      "cell_type": "markdown",
      "source": [
        "Given a NumPy array data, use array slicing to\n",
        "extract elements from index 5 to index 15. If it’s not possible for the input\n",
        "array, display the error message."
      ],
      "metadata": {
        "id": "IcbM44gUl-l-"
      }
    },
    {
      "cell_type": "code",
      "source": [
        "a=np.array([1,2,3])\n",
        "print(a.size)"
      ],
      "metadata": {
        "colab": {
          "base_uri": "https://localhost:8080/"
        },
        "id": "JXqbV8RrnDHd",
        "outputId": "b29c0391-025a-4112-fa15-e935052b74a0"
      },
      "execution_count": null,
      "outputs": [
        {
          "output_type": "stream",
          "name": "stdout",
          "text": [
            "3\n"
          ]
        }
      ]
    },
    {
      "cell_type": "code",
      "source": [
        "def slicer(arr):\n",
        "  if(arr.size>15):\n",
        "    return arr[5:16]\n",
        "  else:\n",
        "    print(\"not possible\")\n",
        "    return np.zeros(5)"
      ],
      "metadata": {
        "id": "EynA2vn6l45d"
      },
      "execution_count": null,
      "outputs": []
    },
    {
      "cell_type": "code",
      "source": [
        "a=np.array([1,2,3])\n",
        "b=np.random.randint(0,5,16)\n",
        "print(b)\n",
        "print(slicer(a))\n",
        "print(slicer(b))"
      ],
      "metadata": {
        "colab": {
          "base_uri": "https://localhost:8080/"
        },
        "id": "FPQ9lSOWnfrC",
        "outputId": "64f09070-f47f-4ddb-cc54-fefe7b856a41"
      },
      "execution_count": null,
      "outputs": [
        {
          "output_type": "stream",
          "name": "stdout",
          "text": [
            "[1 2 2 4 4 4 2 2 3 3 3 2 3 0 2 1]\n",
            "not possible\n",
            "[0. 0. 0. 0. 0.]\n",
            "[4 2 2 3 3 3 2 3 0 2 1]\n"
          ]
        }
      ]
    },
    {
      "cell_type": "markdown",
      "source": [
        "Data Visualization with Matplotlib: Using Matplotlib, plot the follow-\n",
        "ing functions: (a) y = 5x + 4 where x ∈ [−1, 1], (b) y = ln(x) where x > 10\n",
        "\n",
        "and x < 100, (c) y = x\n",
        "\n",
        "2 where x ∈ [−10, 10] (d) y =\n",
        "1\n",
        "1+e\n",
        "x where x ∈ [−1, 1]."
      ],
      "metadata": {
        "id": "xoDwUvO9oNoh"
      }
    },
    {
      "cell_type": "code",
      "source": [
        "import matplotlib.pyplot as plt"
      ],
      "metadata": {
        "id": "BE1NQ5k3oNT9"
      },
      "execution_count": null,
      "outputs": []
    },
    {
      "cell_type": "code",
      "source": [
        "print(np.log(7))"
      ],
      "metadata": {
        "colab": {
          "base_uri": "https://localhost:8080/"
        },
        "id": "OFXTaveveYsK",
        "outputId": "02b7057e-83ca-47d6-ccbf-c54e4597e5d0"
      },
      "execution_count": null,
      "outputs": [
        {
          "output_type": "stream",
          "name": "stdout",
          "text": [
            "1.9459101490553132\n"
          ]
        }
      ]
    },
    {
      "cell_type": "code",
      "source": [
        "def plotter(lower,upper,relation):\n",
        "  interval=(upper-lower)/100\n",
        "  x=np.arange(lower,upper,interval)\n",
        "  if relation==0:\n",
        "    y=5*x+4\n",
        "  elif relation==1:\n",
        "    y=np.log(x)\n",
        "  elif relation==2:\n",
        "    y=np.square(x)\n",
        "  elif relation==3:\n",
        "    y=1/(1+np.exp(x))\n",
        "  else:\n",
        "    y=x\n",
        "  plt.plot(x,y)\n",
        "  plt.show()\n",
        "\n"
      ],
      "metadata": {
        "id": "hRtVrE6uc9rs"
      },
      "execution_count": null,
      "outputs": []
    },
    {
      "cell_type": "code",
      "source": [
        "plotter(-1,1,0)\n",
        "plotter(10,100,1)\n",
        "plotter(-10,10,2)\n",
        "plotter(-1,1,3)\n"
      ],
      "metadata": {
        "colab": {
          "base_uri": "https://localhost:8080/",
          "height": 1000
        },
        "id": "aKaw67RlgYpf",
        "outputId": "473fef84-6353-42ab-a162-91775ffcc5b7"
      },
      "execution_count": null,
      "outputs": [
        {
          "output_type": "display_data",
          "data": {
            "text/plain": [
              "<Figure size 640x480 with 1 Axes>"
            ],
            "image/png": "[encoded data removed]"
          },
          "metadata": {}
        },
        {
          "output_type": "display_data",
          "data": {
            "text/plain": [
              "<Figure size 640x480 with 1 Axes>"
            ],
            "image/png": "[encoded data removed]"
          },
          "metadata": {}
        },
        {
          "output_type": "display_data",
          "data": {
            "text/plain": [
              "<Figure size 640x480 with 1 Axes>"
            ],
            "image/png": "[encoded data removed]"
          },
          "metadata": {}
        },
        {
          "output_type": "display_data",
          "data": {
            "text/plain": [
              "<Figure size 640x480 with 1 Axes>"
            ],
            "image/png": "[encoded data removed]"
          },
          "metadata": {}
        }
      ]
    },
    {
      "cell_type": "markdown",
      "source": [
        "Data Cleaning with Pandas: Given a Pandas DataFrame with a column\n",
        "containing missing values, write a Python function to replace those missing\n",
        "values with the mean of that column."
      ],
      "metadata": {
        "id": "UVsWMORnNe30"
      }
    },
    {
      "cell_type": "code",
      "source": [
        "import pandas as pd\n"
      ],
      "metadata": {
        "id": "0zbTkw2mOKRA"
      },
      "execution_count": null,
      "outputs": []
    },
    {
      "cell_type": "code",
      "source": [
        "dat=pd.read_csv('feature.csv')\n",
        "def cleaner(df):\n",
        "  df.fillna(df.mean(),inplace=True)\n",
        "cleaner(dat)\n",
        "print(dat.head(2))\n",
        "print(dat.iloc[34,2])"
      ],
      "metadata": {
        "colab": {
          "base_uri": "https://localhost:8080/"
        },
        "id": "QSv48CsrSeC1",
        "outputId": "13295c5a-990a-4e38-f884-4952b9c7ed22"
      },
      "execution_count": null,
      "outputs": [
        {
          "output_type": "stream",
          "name": "stdout",
          "text": [
            "     354    721    187         602    893\n",
            "0  438.0  279.0  550.0  146.000000  933.0\n",
            "1  812.0  661.0  924.0  459.144444  337.0\n",
            "568.6111111111111\n"
          ]
        }
      ]
    },
    {
      "cell_type": "markdown",
      "source": [
        "Pandas DataFrame Filtering: Read the CSV file and, using Pandas, filter\n",
        "a DataFrame only to include rows where the ‘age’ column is greater than 40\n",
        "and the ‘gender’ column is ‘female’."
      ],
      "metadata": {
        "id": "9LUHpB7jO5Uz"
      }
    },
    {
      "cell_type": "code",
      "source": [
        "dat=pd.read_csv('demo.csv')\n",
        "def seperator(df):\n",
        "  ser1,ser2,ser3,ser4=[],[],[],[]\n",
        "  for i in df.index:\n",
        "    a=df.loc[i].to_string().split('  ')\n",
        "    b=a[2]\n",
        "    c=b.split(',')\n",
        "    c[1]=int(c[1])\n",
        "    if c[1]>40 and c[2].lower()==\"female\":\n",
        "      ser1.append(c[0])\n",
        "      ser2.append(c[1])\n",
        "      ser3.append(c[2])\n",
        "      ser4.append(c[3])\n",
        "  return ser1,ser2,ser3,ser4\n",
        "Name,Age,Gender,Country=seperator(dat)\n",
        "dict1={\n",
        "    'Name':Name,\n",
        "    'Age':Age,\n",
        "    'Gender':Gender,\n",
        "    'Country':Country\n",
        "}\n",
        "df=pd.DataFrame(dict1)\n",
        "print(df)\n",
        "\n",
        "\n",
        "\n"
      ],
      "metadata": {
        "id": "ffXOyKdIRybt"
      },
      "execution_count": null,
      "outputs": []
    },
    {
      "cell_type": "markdown",
      "source": [
        "Pandas Grouping: Given a data frame with three columns, ‘Country,’\n",
        "‘City’, and ‘Population,’ use Pandas to group the data by ’Country’ and\n",
        "calculate each country’s average population for cities. (5 points) [Data:\n",
        "data/population.csv]"
      ],
      "metadata": {
        "id": "2jAWMyXNsCus"
      }
    },
    {
      "cell_type": "code",
      "source": [
        "dat=pd.read_csv('population.csv')\n",
        "def countrywiseaveragecitypopulation(df,groupbyname,column_name):\n",
        "  for i in df.index:\n",
        "    a=df.loc[i,column_name].split(',')\n",
        "    b=''\n",
        "    for x in a:\n",
        "      b+=x\n",
        "\n",
        "    df.loc[i,column_name]=int(b)\n",
        "  a=df.groupby(groupbyname)[column_name].mean()\n",
        "  return a\n",
        "b=countrywiseaveragecitypopulation(dat,'Country','Population')\n",
        "print(b)\n"
      ],
      "metadata": {
        "colab": {
          "base_uri": "https://localhost:8080/"
        },
        "id": "z862bTInrNKY",
        "outputId": "bca56c96-b5a2-43f1-f176-cf24d8f9d84d"
      },
      "execution_count": null,
      "outputs": [
        {
          "output_type": "stream",
          "name": "stdout",
          "text": [
            "Country\n",
            "Brazil      5536847.2\n",
            "China      17815724.0\n",
            "Germany     1795776.6\n",
            "India       9170929.4\n",
            "Japan       4830745.4\n",
            "UK          2418711.6\n",
            "USA         3787755.2\n",
            "Name: Population, dtype: object\n"
          ]
        }
      ]
    },
    {
      "cell_type": "markdown",
      "source": [
        "Data Manipulation with Pandas: Given a Pandas DataFrame containing\n",
        "columns ‘Sales’ and ‘Expenses’, create a new column ‘Profit’ that calculates\n",
        "the profit as ‘Sales’ minus ‘Expenses’. You may take your own data and\n",
        "demonstrate its working."
      ],
      "metadata": {
        "id": "aleTb5Fb0VOE"
      }
    },
    {
      "cell_type": "code",
      "source": [
        "dict2={\n",
        "    'Sales':[1,2,3,4,5],\n",
        "    'Expenses':[5,4,3,2,1]\n",
        "}\n",
        "dat=pd.DataFrame(dict2)\n",
        "def newcolumn_creator(df,newcolumn_name):\n",
        "  for i in df.index:\n",
        "    df.loc[i,newcolumn_name]=df.loc[i,'Sales']-df.loc[i,'Expenses']\n",
        "newcolumn_creator(dat,'profit')\n",
        "dat.head()\n"
      ],
      "metadata": {
        "colab": {
          "base_uri": "https://localhost:8080/",
          "height": 206
        },
        "id": "2sQrOvPD0UWP",
        "outputId": "5d390dca-247b-4646-b6ce-670322454818"
      },
      "execution_count": null,
      "outputs": [
        {
          "output_type": "execute_result",
          "data": {
            "text/plain": [
              "   Sales  Expenses  profit\n",
              "0      1         5    -4.0\n",
              "1      2         4    -2.0\n",
              "2      3         3     0.0\n",
              "3      4         2     2.0\n",
              "4      5         1     4.0"
            ],
            "text/html": [
              "\n",
              "  <div id=\"df-c42b2de0-b362-40a4-922e-96f13f656df5\" class=\"colab-df-container\">\n",
              "    <div>\n",
              "<style scoped>\n",
              "    .dataframe tbody tr th:only-of-type {\n",
              "        vertical-align: middle;\n",
              "    }\n",
              "\n",
              "    .dataframe tbody tr th {\n",
              "        vertical-align: top;\n",
              "    }\n",
              "\n",
              "    .dataframe thead th {\n",
              "        text-align: right;\n",
              "    }\n",
              "</style>\n",
              "<table border=\"1\" class=\"dataframe\">\n",
              "  <thead>\n",
              "    <tr style=\"text-align: right;\">\n",
              "      <th></th>\n",
              "      <th>Sales</th>\n",
              "      <th>Expenses</th>\n",
              "      <th>profit</th>\n",
              "    </tr>\n",
              "  </thead>\n",
              "  <tbody>\n",
              "    <tr>\n",
              "      <th>0</th>\n",
              "      <td>1</td>\n",
              "      <td>5</td>\n",
              "      <td>-4.0</td>\n",
              "    </tr>\n",
              "    <tr>\n",
              "      <th>1</th>\n",
              "      <td>2</td>\n",
              "      <td>4</td>\n",
              "      <td>-2.0</td>\n",
              "    </tr>\n",
              "    <tr>\n",
              "      <th>2</th>\n",
              "      <td>3</td>\n",
              "      <td>3</td>\n",
              "      <td>0.0</td>\n",
              "    </tr>\n",
              "    <tr>\n",
              "      <th>3</th>\n",
              "      <td>4</td>\n",
              "      <td>2</td>\n",
              "      <td>2.0</td>\n",
              "    </tr>\n",
              "    <tr>\n",
              "      <th>4</th>\n",
              "      <td>5</td>\n",
              "      <td>1</td>\n",
              "      <td>4.0</td>\n",
              "    </tr>\n",
              "  </tbody>\n",
              "</table>\n",
              "</div>\n",
              "    <div class=\"colab-df-buttons\">\n",
              "\n",
              "  <div class=\"colab-df-container\">\n",
              "    <button class=\"colab-df-convert\" onclick=\"convertToInteractive('df-c42b2de0-b362-40a4-922e-96f13f656df5')\"\n",
              "            title=\"Convert this dataframe to an interactive table.\"\n",
              "            style=\"display:none;\">\n",
              "\n",
              "  <svg xmlns=\"http://www.w3.org/2000/svg\" height=\"24px\" viewBox=\"0 -960 960 960\">\n",
              "    <path d=\"M120-120v-720h720v720H120Zm60-500h600v-160H180v160Zm220 220h160v-160H400v160Zm0 220h160v-160H400v160ZM180-400h160v-160H180v160Zm440 0h160v-160H620v160ZM180-180h160v-160H180v160Zm440 0h160v-160H620v160Z\"/>\n",
              "  </svg>\n",
              "    </button>\n",
              "\n",
              "  <style>\n",
              "    .colab-df-container {\n",
              "      display:flex;\n",
              "      gap: 12px;\n",
              "    }\n",
              "\n",
              "    .colab-df-convert {\n",
              "      background-color: #E8F0FE;\n",
              "      border: none;\n",
              "      border-radius: 50%;\n",
              "      cursor: pointer;\n",
              "      display: none;\n",
              "      fill: #1967D2;\n",
              "      height: 32px;\n",
              "      padding: 0 0 0 0;\n",
              "      width: 32px;\n",
              "    }\n",
              "\n",
              "    .colab-df-convert:hover {\n",
              "      background-color: #E2EBFA;\n",
              "      box-shadow: 0px 1px 2px rgba(60, 64, 67, 0.3), 0px 1px 3px 1px rgba(60, 64, 67, 0.15);\n",
              "      fill: #174EA6;\n",
              "    }\n",
              "\n",
              "    .colab-df-buttons div {\n",
              "      margin-bottom: 4px;\n",
              "    }\n",
              "\n",
              "    [theme=dark] .colab-df-convert {\n",
              "      background-color: #3B4455;\n",
              "      fill: #D2E3FC;\n",
              "    }\n",
              "\n",
              "    [theme=dark] .colab-df-convert:hover {\n",
              "      background-color: #434B5C;\n",
              "      box-shadow: 0px 1px 3px 1px rgba(0, 0, 0, 0.15);\n",
              "      filter: drop-shadow(0px 1px 2px rgba(0, 0, 0, 0.3));\n",
              "      fill: #FFFFFF;\n",
              "    }\n",
              "  </style>\n",
              "\n",
              "    <script>\n",
              "      const buttonEl =\n",
              "        document.querySelector('#df-c42b2de0-b362-40a4-922e-96f13f656df5 button.colab-df-convert');\n",
              "      buttonEl.style.display =\n",
              "        google.colab.kernel.accessAllowed ? 'block' : 'none';\n",
              "\n",
              "      async function convertToInteractive(key) {\n",
              "        const element = document.querySelector('#df-c42b2de0-b362-40a4-922e-96f13f656df5');\n",
              "        const dataTable =\n",
              "          await google.colab.kernel.invokeFunction('convertToInteractive',\n",
              "                                                    [key], {});\n",
              "        if (!dataTable) return;\n",
              "\n",
              "        const docLinkHtml = 'Like what you see? Visit the ' +\n",
              "          '<a target=\"_blank\" href=https://colab.research.google.com/notebooks/data_table.ipynb>data table notebook</a>'\n",
              "          + ' to learn more about interactive tables.';\n",
              "        element.innerHTML = '';\n",
              "        dataTable['output_type'] = 'display_data';\n",
              "        await google.colab.output.renderOutput(dataTable, element);\n",
              "        const docLink = document.createElement('div');\n",
              "        docLink.innerHTML = docLinkHtml;\n",
              "        element.appendChild(docLink);\n",
              "      }\n",
              "    </script>\n",
              "  </div>\n",
              "\n",
              "\n",
              "    <div id=\"df-d0aba9dd-4f99-46be-8e1a-7029a2230630\">\n",
              "      <button class=\"colab-df-quickchart\" onclick=\"quickchart('df-d0aba9dd-4f99-46be-8e1a-7029a2230630')\"\n",
              "                title=\"Suggest charts\"\n",
              "                style=\"display:none;\">\n",
              "\n",
              "<svg xmlns=\"http://www.w3.org/2000/svg\" height=\"24px\"viewBox=\"0 0 24 24\"\n",
              "     width=\"24px\">\n",
              "    <g>\n",
              "        <path d=\"M19 3H5c-1.1 0-2 .9-2 2v14c0 1.1.9 2 2 2h14c1.1 0 2-.9 2-2V5c0-1.1-.9-2-2-2zM9 17H7v-7h2v7zm4 0h-2V7h2v10zm4 0h-2v-4h2v4z\"/>\n",
              "    </g>\n",
              "</svg>\n",
              "      </button>\n",
              "\n",
              "<style>\n",
              "  .colab-df-quickchart {\n",
              "      --bg-color: #E8F0FE;\n",
              "      --fill-color: #1967D2;\n",
              "      --hover-bg-color: #E2EBFA;\n",
              "      --hover-fill-color: #174EA6;\n",
              "      --disabled-fill-color: #AAA;\n",
              "      --disabled-bg-color: #DDD;\n",
              "  }\n",
              "\n",
              "  [theme=dark] .colab-df-quickchart {\n",
              "      --bg-color: #3B4455;\n",
              "      --fill-color: #D2E3FC;\n",
              "      --hover-bg-color: #434B5C;\n",
              "      --hover-fill-color: #FFFFFF;\n",
              "      --disabled-bg-color: #3B4455;\n",
              "      --disabled-fill-color: #666;\n",
              "  }\n",
              "\n",
              "  .colab-df-quickchart {\n",
              "    background-color: var(--bg-color);\n",
              "    border: none;\n",
              "    border-radius: 50%;\n",
              "    cursor: pointer;\n",
              "    display: none;\n",
              "    fill: var(--fill-color);\n",
              "    height: 32px;\n",
              "    padding: 0;\n",
              "    width: 32px;\n",
              "  }\n",
              "\n",
              "  .colab-df-quickchart:hover {\n",
              "    background-color: var(--hover-bg-color);\n",
              "    box-shadow: 0 1px 2px rgba(60, 64, 67, 0.3), 0 1px 3px 1px rgba(60, 64, 67, 0.15);\n",
              "    fill: var(--button-hover-fill-color);\n",
              "  }\n",
              "\n",
              "  .colab-df-quickchart-complete:disabled,\n",
              "  .colab-df-quickchart-complete:disabled:hover {\n",
              "    background-color: var(--disabled-bg-color);\n",
              "    fill: var(--disabled-fill-color);\n",
              "    box-shadow: none;\n",
              "  }\n",
              "\n",
              "  .colab-df-spinner {\n",
              "    border: 2px solid var(--fill-color);\n",
              "    border-color: transparent;\n",
              "    border-bottom-color: var(--fill-color);\n",
              "    animation:\n",
              "      spin 1s steps(1) infinite;\n",
              "  }\n",
              "\n",
              "  @keyframes spin {\n",
              "    0% {\n",
              "      border-color: transparent;\n",
              "      border-bottom-color: var(--fill-color);\n",
              "      border-left-color: var(--fill-color);\n",
              "    }\n",
              "    20% {\n",
              "      border-color: transparent;\n",
              "      border-left-color: var(--fill-color);\n",
              "      border-top-color: var(--fill-color);\n",
              "    }\n",
              "    30% {\n",
              "      border-color: transparent;\n",
              "      border-left-color: var(--fill-color);\n",
              "      border-top-color: var(--fill-color);\n",
              "      border-right-color: var(--fill-color);\n",
              "    }\n",
              "    40% {\n",
              "      border-color: transparent;\n",
              "      border-right-color: var(--fill-color);\n",
              "      border-top-color: var(--fill-color);\n",
              "    }\n",
              "    60% {\n",
              "      border-color: transparent;\n",
              "      border-right-color: var(--fill-color);\n",
              "    }\n",
              "    80% {\n",
              "      border-color: transparent;\n",
              "      border-right-color: var(--fill-color);\n",
              "      border-bottom-color: var(--fill-color);\n",
              "    }\n",
              "    90% {\n",
              "      border-color: transparent;\n",
              "      border-bottom-color: var(--fill-color);\n",
              "    }\n",
              "  }\n",
              "</style>\n",
              "\n",
              "      <script>\n",
              "        async function quickchart(key) {\n",
              "          const quickchartButtonEl =\n",
              "            document.querySelector('#' + key + ' button');\n",
              "          quickchartButtonEl.disabled = true;  // To prevent multiple clicks.\n",
              "          quickchartButtonEl.classList.add('colab-df-spinner');\n",
              "          try {\n",
              "            const charts = await google.colab.kernel.invokeFunction(\n",
              "                'suggestCharts', [key], {});\n",
              "          } catch (error) {\n",
              "            console.error('Error during call to suggestCharts:', error);\n",
              "          }\n",
              "          quickchartButtonEl.classList.remove('colab-df-spinner');\n",
              "          quickchartButtonEl.classList.add('colab-df-quickchart-complete');\n",
              "        }\n",
              "        (() => {\n",
              "          let quickchartButtonEl =\n",
              "            document.querySelector('#df-d0aba9dd-4f99-46be-8e1a-7029a2230630 button');\n",
              "          quickchartButtonEl.style.display =\n",
              "            google.colab.kernel.accessAllowed ? 'block' : 'none';\n",
              "        })();\n",
              "      </script>\n",
              "    </div>\n",
              "\n",
              "    </div>\n",
              "  </div>\n"
            ],
            "application/vnd.google.colaboratory.intrinsic+json": {
              "type": "dataframe",
              "variable_name": "dat",
              "summary": "{\n  \"name\": \"dat\",\n  \"rows\": 5,\n  \"fields\": [\n    {\n      \"column\": \"Sales\",\n      \"properties\": {\n        \"dtype\": \"number\",\n        \"std\": 1,\n        \"min\": 1,\n        \"max\": 5,\n        \"num_unique_values\": 5,\n        \"samples\": [\n          2,\n          5,\n          3\n        ],\n        \"semantic_type\": \"\",\n        \"description\": \"\"\n      }\n    },\n    {\n      \"column\": \"Expenses\",\n      \"properties\": {\n        \"dtype\": \"number\",\n        \"std\": 1,\n        \"min\": 1,\n        \"max\": 5,\n        \"num_unique_values\": 5,\n        \"samples\": [\n          4,\n          1,\n          3\n        ],\n        \"semantic_type\": \"\",\n        \"description\": \"\"\n      }\n    },\n    {\n      \"column\": \"profit\",\n      \"properties\": {\n        \"dtype\": \"number\",\n        \"std\": 3.1622776601683795,\n        \"min\": -4.0,\n        \"max\": 4.0,\n        \"num_unique_values\": 5,\n        \"samples\": [\n          -2.0,\n          4.0,\n          0.0\n        ],\n        \"semantic_type\": \"\",\n        \"description\": \"\"\n      }\n    }\n  ]\n}"
            }
          },
          "metadata": {},
          "execution_count": 92
        }
      ]
    },
    {
      "cell_type": "markdown",
      "source": [
        "Dictionary Manipulation: Given a dictionary phonebook containing names\n",
        "as keys and phone numbers as values, write a function to find and return the\n",
        "name(s) of the person(s) with the phone number(s) starting with XY where XY is a two-digit number entered by the user. You may create a phonebook\n",
        "of 10 of your friends."
      ],
      "metadata": {
        "id": "zuuKA01DcnP5"
      }
    },
    {
      "cell_type": "code",
      "source": [
        "a=np.random.randint(1000000000,10000000000,10)\n"
      ],
      "metadata": {
        "id": "JsmVcAwX3BTP"
      },
      "execution_count": null,
      "outputs": []
    },
    {
      "cell_type": "code",
      "source": [
        "print(a)\n",
        "print(type(a))"
      ],
      "metadata": {
        "colab": {
          "base_uri": "https://localhost:8080/"
        },
        "id": "FCXD1BUGdLSF",
        "outputId": "99252e97-61d5-4690-ee99-85b7cedd8d63"
      },
      "execution_count": null,
      "outputs": [
        {
          "output_type": "stream",
          "name": "stdout",
          "text": [
            "[1749350092 1816412053 9417607373 5351820216 5759661478 2938727319\n",
            " 9333696384 5071964180 3107633976 5226481019]\n",
            "<class 'numpy.ndarray'>\n"
          ]
        }
      ]
    },
    {
      "cell_type": "code",
      "source": [
        "dict1 ={\n",
        "    'aarav':a[0],\n",
        "    'ramcharan':a[1],\n",
        "    'qasim':a[2],\n",
        "    'aaryan':a[3],\n",
        "    'ishan':a[4],\n",
        "    'suman':a[5],\n",
        "    'ganesh':a[6],\n",
        "    'yash':a[7],\n",
        "    'ackermann':a[8],\n",
        "    'rajnesh':a[9]\n",
        "}"
      ],
      "metadata": {
        "id": "i5PRa6qPdPnb"
      },
      "execution_count": null,
      "outputs": []
    },
    {
      "cell_type": "code",
      "source": [
        "def namefinder(dict,st):\n",
        "  c=[]\n",
        "  for x in dict:\n",
        "    if str(dict[x])[:len(st)]==st:\n",
        "      c.append(x)\n",
        "  return c\n",
        "for i in range(10,100):\n",
        "  a=namefinder(dict1,str(i))\n",
        "  if a!=[]:\n",
        "    print(a,i)\n",
        "\n"
      ],
      "metadata": {
        "colab": {
          "base_uri": "https://localhost:8080/"
        },
        "id": "tIq6kqdDeemX",
        "outputId": "77d3a246-3bdc-4dc0-f12f-72c5d52ef460"
      },
      "execution_count": null,
      "outputs": [
        {
          "output_type": "stream",
          "name": "stdout",
          "text": [
            "['aarav'] 17\n",
            "['ramcharan'] 18\n",
            "['suman'] 29\n",
            "['ackermann'] 31\n",
            "['yash'] 50\n",
            "['rajnesh'] 52\n",
            "['aaryan'] 53\n",
            "['ishan'] 57\n",
            "['ganesh'] 93\n",
            "['qasim'] 94\n"
          ]
        }
      ]
    },
    {
      "cell_type": "markdown",
      "source": [
        "Function: Write two Python functions that take a vector as input and com-\n",
        "pute ReLU and sigmoid activation on each element of that vector, respec-\n",
        "tively. Hint: RelU(x) = max(0, x) and Sigmoid(x) = 1\n",
        "\n",
        "1+e−x ."
      ],
      "metadata": {
        "id": "R5mvoz-8coZu"
      }
    },
    {
      "cell_type": "code",
      "source": [
        "def activation(x):\n",
        "  relu=np.maximum(0,x)\n",
        "  sigmoid=1/(1+np.exp(-x))\n",
        "  return relu,sigmoid\n",
        "test=np.array([-1,2,3,-4])\n",
        "rel,sig=activation(test)\n",
        "print(type(test))\n",
        "print(type(test))\n",
        "print(rel)\n",
        "print(sig)"
      ],
      "metadata": {
        "id": "iPhhIQAqckxe"
      },
      "execution_count": null,
      "outputs": []
    },
    {
      "cell_type": "markdown",
      "source": [
        "Files Reading: Write a Python code that recursively reads all the files in a\n",
        "folder and its subfolder and displays all the image files. Note that image files\n",
        "can have one of the following extensions: png, jpeg, jpg, tiff."
      ],
      "metadata": {
        "id": "zB8S_7RGTTCm"
      }
    },
    {
      "cell_type": "code",
      "source": [
        "\n",
        "def imagedisplay(source_folder_name,destination_folder_name):\n",
        "  for x in"
      ],
      "metadata": {
        "id": "JpZgXpQhQalG"
      },
      "execution_count": null,
      "outputs": []
    },
    {
      "cell_type": "markdown",
      "source": [
        "Object-Oriented Programming: Create a class Circle with attribute ra-\n",
        "dius and methods to calculate the area and perimeter. Test the class by\n",
        "\n",
        "creating objects and performing calculations. (5 points)"
      ],
      "metadata": {
        "id": "YPbLluiAU-yb"
      }
    }
  ]
}